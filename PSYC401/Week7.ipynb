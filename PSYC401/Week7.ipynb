{
  "cells": [
    {
      "cell_type": "raw",
      "metadata": {},
      "source": [
        "---\n",
        "title: x\n",
        "---"
      ],
      "id": "28be4216"
    },
    {
      "cell_type": "markdown",
      "metadata": {},
      "source": [
        "```{js}\n",
        "\n",
        "$(document).ready(function () {\n",
        "\n",
        "var start = new Date();\n",
        "var end = new Date();\n",
        "var time = new Date().getTime();\n",
        "\n",
        "   //Set the start hours and ending hours\n",
        "if (time > start.setHours(07,30) && time < end.setHours(19,30)) {\n",
        "    $('.open').show();\n",
        "    $('.closed').hide();\n",
        "}\n",
        "else {\n",
        "    $('.open').hide();\n",
        "    $('.closed').show();\n",
        "    }\n",
        "});\n",
        "```\n",
        "\n",
        "```{=html}\n",
        "<div class='open'>Challenge going on now!</div>\n",
        "<div class='closed'>Challenge has ended</div>\n",
        "```"
      ],
      "id": "6a52c68a"
    }
  ],
  "metadata": {
    "kernelspec": {
      "name": "python3",
      "language": "python",
      "display_name": "Python 3 (ipykernel)"
    }
  },
  "nbformat": 4,
  "nbformat_minor": 5
}